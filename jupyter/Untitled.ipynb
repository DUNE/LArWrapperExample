{
 "cells": [
  {
   "cell_type": "code",
   "execution_count": 1,
   "id": "069e2e89-2e1e-42b4-98d0-0a17900dc9a0",
   "metadata": {},
   "outputs": [],
   "source": [
    "import os,time,sys,datetime, glob, fnmatch,string,subprocess, json\n",
    "\n",
    "import samweb_client\n",
    "samweb = samweb_client.SAMWebClient(experiment='dune')\n",
    "\n",
    "DEBUG = True"
   ]
  },
  {
   "cell_type": "code",
   "execution_count": null,
   "id": "ce082014-8a93-49f5-aa81-1f30f4080489",
   "metadata": {},
   "outputs": [],
   "source": [
    "query = \"file_type mc and data_tier full-reconstructed and first_event 1 and create_date > 2022-01-01 and user dunepro\"\n",
    "\n",
    "filelist = samweb.listFiles(dimensions=query)\n",
    "\n",
    "descriplist = []\n",
    "count = 0\n",
    "for file in filelist:\n",
    "    count +=1\n",
    "    md = samweb.getMetadata(file)\n",
    "    request = None\n",
    "    if \"DUNE.requestid\" in md:\n",
    "        request = md[\"DUNE.requestid\"]\n",
    "    if request in descriplist: continue\n",
    "    print (\"new requestid\",request)\n",
    "    descriplist.append(request)"
   ]
  }
 ],
 "metadata": {
  "kernelspec": {
   "display_name": "Python 3 (ipykernel)",
   "language": "python",
   "name": "python3"
  },
  "language_info": {
   "codemirror_mode": {
    "name": "ipython",
    "version": 3
   },
   "file_extension": ".py",
   "mimetype": "text/x-python",
   "name": "python",
   "nbconvert_exporter": "python",
   "pygments_lexer": "ipython3",
   "version": "3.9.6"
  }
 },
 "nbformat": 4,
 "nbformat_minor": 5
}
